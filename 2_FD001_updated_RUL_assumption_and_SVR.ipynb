{
 "cells": [
  {
   "cell_type": "markdown",
   "metadata": {},
   "source": [
    "# Intro\n",
    "In the previous notebook we explored the FD001 dataset and created a baseline model to predict the RUL. The baseline had an RMSE of 31.95. In this notebook we'll re-examine our assumption of RUL and fit an SVR to get a better score.  \n",
    "Check out my [blog post](https://towardsdatascience.com/the-importance-of-problem-framing-for-supervised-predictive-maintenance-solutions-cc8646826093?source=friends_link&sk=ec51cbfa29f084ed94fe59d0daf51df0) for the full explanation.  \n",
    "  \n",
    "<disclaimer: I aim to showcase the effect of different methods and choices made during model development. These effects are often shown using the test set, something which is considered (very) bad practice but helps for educational purposes.>"
   ]
  },
  {
   "cell_type": "code",
   "execution_count": 1,
   "metadata": {},
   "outputs": [],
   "source": [
    "%matplotlib inline\n",
    "import pandas as pd\n",
    "import numpy as np\n",
    "import matplotlib.pyplot as plt\n",
    "import seaborn as sns; sns.set()\n",
    "\n",
    "from sklearn.linear_model import LinearRegression\n",
    "from sklearn.svm import SVR\n",
    "from sklearn.metrics import mean_squared_error, r2_score"
   ]
  },
  {
   "cell_type": "markdown",
   "metadata": {},
   "source": [
    "## Load data and compute RUL"
   ]
  },
  {
   "cell_type": "code",
   "execution_count": 2,
   "metadata": {},
   "outputs": [
    {
     "data": {
      "text/html": [
       "<div>\n",
       "<style scoped>\n",
       "    .dataframe tbody tr th:only-of-type {\n",
       "        vertical-align: middle;\n",
       "    }\n",
       "\n",
       "    .dataframe tbody tr th {\n",
       "        vertical-align: top;\n",
       "    }\n",
       "\n",
       "    .dataframe thead th {\n",
       "        text-align: right;\n",
       "    }\n",
       "</style>\n",
       "<table border=\"1\" class=\"dataframe\">\n",
       "  <thead>\n",
       "    <tr style=\"text-align: right;\">\n",
       "      <th></th>\n",
       "      <th>unit_nr</th>\n",
       "      <th>time_cycles</th>\n",
       "      <th>setting_1</th>\n",
       "      <th>setting_2</th>\n",
       "      <th>setting_3</th>\n",
       "      <th>s_1</th>\n",
       "      <th>s_2</th>\n",
       "      <th>s_3</th>\n",
       "      <th>s_4</th>\n",
       "      <th>s_5</th>\n",
       "      <th>...</th>\n",
       "      <th>s_12</th>\n",
       "      <th>s_13</th>\n",
       "      <th>s_14</th>\n",
       "      <th>s_15</th>\n",
       "      <th>s_16</th>\n",
       "      <th>s_17</th>\n",
       "      <th>s_18</th>\n",
       "      <th>s_19</th>\n",
       "      <th>s_20</th>\n",
       "      <th>s_21</th>\n",
       "    </tr>\n",
       "  </thead>\n",
       "  <tbody>\n",
       "    <tr>\n",
       "      <td>0</td>\n",
       "      <td>1</td>\n",
       "      <td>1</td>\n",
       "      <td>-0.0007</td>\n",
       "      <td>-0.0004</td>\n",
       "      <td>100.0</td>\n",
       "      <td>518.67</td>\n",
       "      <td>641.82</td>\n",
       "      <td>1589.70</td>\n",
       "      <td>1400.60</td>\n",
       "      <td>14.62</td>\n",
       "      <td>...</td>\n",
       "      <td>521.66</td>\n",
       "      <td>2388.02</td>\n",
       "      <td>8138.62</td>\n",
       "      <td>8.4195</td>\n",
       "      <td>0.03</td>\n",
       "      <td>392</td>\n",
       "      <td>2388</td>\n",
       "      <td>100.0</td>\n",
       "      <td>39.06</td>\n",
       "      <td>23.4190</td>\n",
       "    </tr>\n",
       "    <tr>\n",
       "      <td>1</td>\n",
       "      <td>1</td>\n",
       "      <td>2</td>\n",
       "      <td>0.0019</td>\n",
       "      <td>-0.0003</td>\n",
       "      <td>100.0</td>\n",
       "      <td>518.67</td>\n",
       "      <td>642.15</td>\n",
       "      <td>1591.82</td>\n",
       "      <td>1403.14</td>\n",
       "      <td>14.62</td>\n",
       "      <td>...</td>\n",
       "      <td>522.28</td>\n",
       "      <td>2388.07</td>\n",
       "      <td>8131.49</td>\n",
       "      <td>8.4318</td>\n",
       "      <td>0.03</td>\n",
       "      <td>392</td>\n",
       "      <td>2388</td>\n",
       "      <td>100.0</td>\n",
       "      <td>39.00</td>\n",
       "      <td>23.4236</td>\n",
       "    </tr>\n",
       "    <tr>\n",
       "      <td>2</td>\n",
       "      <td>1</td>\n",
       "      <td>3</td>\n",
       "      <td>-0.0043</td>\n",
       "      <td>0.0003</td>\n",
       "      <td>100.0</td>\n",
       "      <td>518.67</td>\n",
       "      <td>642.35</td>\n",
       "      <td>1587.99</td>\n",
       "      <td>1404.20</td>\n",
       "      <td>14.62</td>\n",
       "      <td>...</td>\n",
       "      <td>522.42</td>\n",
       "      <td>2388.03</td>\n",
       "      <td>8133.23</td>\n",
       "      <td>8.4178</td>\n",
       "      <td>0.03</td>\n",
       "      <td>390</td>\n",
       "      <td>2388</td>\n",
       "      <td>100.0</td>\n",
       "      <td>38.95</td>\n",
       "      <td>23.3442</td>\n",
       "    </tr>\n",
       "    <tr>\n",
       "      <td>3</td>\n",
       "      <td>1</td>\n",
       "      <td>4</td>\n",
       "      <td>0.0007</td>\n",
       "      <td>0.0000</td>\n",
       "      <td>100.0</td>\n",
       "      <td>518.67</td>\n",
       "      <td>642.35</td>\n",
       "      <td>1582.79</td>\n",
       "      <td>1401.87</td>\n",
       "      <td>14.62</td>\n",
       "      <td>...</td>\n",
       "      <td>522.86</td>\n",
       "      <td>2388.08</td>\n",
       "      <td>8133.83</td>\n",
       "      <td>8.3682</td>\n",
       "      <td>0.03</td>\n",
       "      <td>392</td>\n",
       "      <td>2388</td>\n",
       "      <td>100.0</td>\n",
       "      <td>38.88</td>\n",
       "      <td>23.3739</td>\n",
       "    </tr>\n",
       "    <tr>\n",
       "      <td>4</td>\n",
       "      <td>1</td>\n",
       "      <td>5</td>\n",
       "      <td>-0.0019</td>\n",
       "      <td>-0.0002</td>\n",
       "      <td>100.0</td>\n",
       "      <td>518.67</td>\n",
       "      <td>642.37</td>\n",
       "      <td>1582.85</td>\n",
       "      <td>1406.22</td>\n",
       "      <td>14.62</td>\n",
       "      <td>...</td>\n",
       "      <td>522.19</td>\n",
       "      <td>2388.04</td>\n",
       "      <td>8133.80</td>\n",
       "      <td>8.4294</td>\n",
       "      <td>0.03</td>\n",
       "      <td>393</td>\n",
       "      <td>2388</td>\n",
       "      <td>100.0</td>\n",
       "      <td>38.90</td>\n",
       "      <td>23.4044</td>\n",
       "    </tr>\n",
       "  </tbody>\n",
       "</table>\n",
       "<p>5 rows × 26 columns</p>\n",
       "</div>"
      ],
      "text/plain": [
       "   unit_nr  time_cycles  setting_1  setting_2  setting_3     s_1     s_2  \\\n",
       "0        1            1    -0.0007    -0.0004      100.0  518.67  641.82   \n",
       "1        1            2     0.0019    -0.0003      100.0  518.67  642.15   \n",
       "2        1            3    -0.0043     0.0003      100.0  518.67  642.35   \n",
       "3        1            4     0.0007     0.0000      100.0  518.67  642.35   \n",
       "4        1            5    -0.0019    -0.0002      100.0  518.67  642.37   \n",
       "\n",
       "       s_3      s_4    s_5  ...    s_12     s_13     s_14    s_15  s_16  s_17  \\\n",
       "0  1589.70  1400.60  14.62  ...  521.66  2388.02  8138.62  8.4195  0.03   392   \n",
       "1  1591.82  1403.14  14.62  ...  522.28  2388.07  8131.49  8.4318  0.03   392   \n",
       "2  1587.99  1404.20  14.62  ...  522.42  2388.03  8133.23  8.4178  0.03   390   \n",
       "3  1582.79  1401.87  14.62  ...  522.86  2388.08  8133.83  8.3682  0.03   392   \n",
       "4  1582.85  1406.22  14.62  ...  522.19  2388.04  8133.80  8.4294  0.03   393   \n",
       "\n",
       "   s_18   s_19   s_20     s_21  \n",
       "0  2388  100.0  39.06  23.4190  \n",
       "1  2388  100.0  39.00  23.4236  \n",
       "2  2388  100.0  38.95  23.3442  \n",
       "3  2388  100.0  38.88  23.3739  \n",
       "4  2388  100.0  38.90  23.4044  \n",
       "\n",
       "[5 rows x 26 columns]"
      ]
     },
     "execution_count": 2,
     "metadata": {},
     "output_type": "execute_result"
    }
   ],
   "source": [
    "# define filepath to read data\n",
    "dir_path = '../data/unzipped/CMAPSSData/'\n",
    "\n",
    "# define column names for easy indexing\n",
    "index_names = ['unit_nr', 'time_cycles']\n",
    "setting_names = ['setting_1', 'setting_2', 'setting_3']\n",
    "sensor_names = ['s_{}'.format(i) for i in range(1,22)] \n",
    "col_names = index_names + setting_names + sensor_names\n",
    "\n",
    "# read data\n",
    "train = pd.read_csv((dir_path+'train_FD001.txt'), sep='\\s+', header=None, names=col_names)\n",
    "test = pd.read_csv((dir_path+'test_FD001.txt'), sep='\\s+', header=None, names=col_names)\n",
    "y_test = pd.read_csv((dir_path+'RUL_FD001.txt'), sep='\\s+', header=None, names=['RUL'])\n",
    "\n",
    "train.head()"
   ]
  },
  {
   "cell_type": "code",
   "execution_count": 3,
   "metadata": {},
   "outputs": [
    {
     "data": {
      "text/html": [
       "<div>\n",
       "<style scoped>\n",
       "    .dataframe tbody tr th:only-of-type {\n",
       "        vertical-align: middle;\n",
       "    }\n",
       "\n",
       "    .dataframe tbody tr th {\n",
       "        vertical-align: top;\n",
       "    }\n",
       "\n",
       "    .dataframe thead th {\n",
       "        text-align: right;\n",
       "    }\n",
       "</style>\n",
       "<table border=\"1\" class=\"dataframe\">\n",
       "  <thead>\n",
       "    <tr style=\"text-align: right;\">\n",
       "      <th></th>\n",
       "      <th>unit_nr</th>\n",
       "      <th>time_cycles</th>\n",
       "      <th>RUL</th>\n",
       "    </tr>\n",
       "  </thead>\n",
       "  <tbody>\n",
       "    <tr>\n",
       "      <td>0</td>\n",
       "      <td>1</td>\n",
       "      <td>1</td>\n",
       "      <td>191</td>\n",
       "    </tr>\n",
       "    <tr>\n",
       "      <td>1</td>\n",
       "      <td>1</td>\n",
       "      <td>2</td>\n",
       "      <td>190</td>\n",
       "    </tr>\n",
       "    <tr>\n",
       "      <td>2</td>\n",
       "      <td>1</td>\n",
       "      <td>3</td>\n",
       "      <td>189</td>\n",
       "    </tr>\n",
       "    <tr>\n",
       "      <td>3</td>\n",
       "      <td>1</td>\n",
       "      <td>4</td>\n",
       "      <td>188</td>\n",
       "    </tr>\n",
       "    <tr>\n",
       "      <td>4</td>\n",
       "      <td>1</td>\n",
       "      <td>5</td>\n",
       "      <td>187</td>\n",
       "    </tr>\n",
       "  </tbody>\n",
       "</table>\n",
       "</div>"
      ],
      "text/plain": [
       "   unit_nr  time_cycles  RUL\n",
       "0        1            1  191\n",
       "1        1            2  190\n",
       "2        1            3  189\n",
       "3        1            4  188\n",
       "4        1            5  187"
      ]
     },
     "execution_count": 3,
     "metadata": {},
     "output_type": "execute_result"
    }
   ],
   "source": [
    "def add_remaining_useful_life(df):\n",
    "    # Get the total number of cycles for each unit\n",
    "    grouped_by_unit = df.groupby(by=\"unit_nr\")\n",
    "    max_cycle = grouped_by_unit[\"time_cycles\"].max()\n",
    "    \n",
    "    # Merge the max cycle back into the original frame\n",
    "    result_frame = df.merge(max_cycle.to_frame(name='max_cycle'), left_on='unit_nr', right_index=True)\n",
    "    \n",
    "    # Calculate remaining useful life for each row\n",
    "    remaining_useful_life = result_frame[\"max_cycle\"] - result_frame[\"time_cycles\"]\n",
    "    result_frame[\"RUL\"] = remaining_useful_life\n",
    "    \n",
    "    # drop max_cycle as it's no longer needed\n",
    "    result_frame = result_frame.drop(\"max_cycle\", axis=1)\n",
    "    return result_frame\n",
    "\n",
    "train = add_remaining_useful_life(train)\n",
    "train[index_names+['RUL']].head()"
   ]
  },
  {
   "cell_type": "markdown",
   "metadata": {},
   "source": [
    "## Re-examine RUL"
   ]
  },
  {
   "cell_type": "markdown",
   "metadata": {},
   "source": [
    "Our current assumption of RUL for the train set is that it declines linearly to zero. However, when we inspect the sensor signals they often show a 'bend' in their curve indicating degradation has started. Based on the information given to us we can't really say anything about RUL before this point, as we don't have any information on initial wear and tear of the engines.[Heimes 2008]  \n",
    "Therefore, we assume RUL to start out constant and only decline linearly after some time. The aim is to get a similar 'bend' in the curve (see image below).   \n",
    "Starting out with a constant RUL achieves two things:  \n",
    "1) Initially constant RUL correlates better with the stable mean sensor signal  \n",
    "2) Lower peak values of RUL results in lower spread of our target variable, making it easier to fit a line"
   ]
  },
  {
   "cell_type": "code",
   "execution_count": 4,
   "metadata": {},
   "outputs": [],
   "source": [
    "clipped_rul = train.loc[train['unit_nr']==20].copy()\n",
    "clipped_rul['RUL'].clip(upper=125, inplace=True)"
   ]
  },
  {
   "cell_type": "code",
   "execution_count": 5,
   "metadata": {},
   "outputs": [
    {
     "data": {
      "image/png": "[encoded data removed]",
      "text/plain": [
       "<Figure size 936x360 with 2 Axes>"
      ]
     },
     "metadata": {},
     "output_type": "display_data"
    }
   ],
   "source": [
    "fig, ax1 = plt.subplots(1,1, figsize=(13,5))\n",
    "\n",
    "signal = ax1.plot('RUL', 's_12', 'b',\n",
    "                 data=train.loc[train['unit_nr']==20])\n",
    "plt.xlim(250, 0)  # reverse the x-axis so RUL counts down to zero\n",
    "plt.xticks(np.arange(0, 275, 25))\n",
    "ax1.set_ylabel('s_12', labelpad=20)\n",
    "ax1.set_xlabel('RUL', labelpad=20)\n",
    "\n",
    "ax2 = ax1.twinx()\n",
    "rul_line = ax2.plot('RUL', 'RUL', 'k', linewidth=4,\n",
    "                   data=train.loc[train['unit_nr']==20])\n",
    "rul = train.loc[train['unit_nr']==20, 'RUL']\n",
    "rul_line2 = ax2.plot(rul, rul.where(rul <= 125, 125), '--g', linewidth=4, label='clipped_rul')  # SET LABEL MANUALLY?\n",
    "ax2.set_ylabel('RUL', labelpad=20)\n",
    "\n",
    "# code to have equal spacing of y ticks for both axes, so the gridlines allign\n",
    "# from https://stackoverflow.com/questions/20243683/matplotlib-align-twinx-tick-marks?rq=1\n",
    "ax2.set_ylim(0, 250)  # set limits of axis you want to display neatly\n",
    "ax2.set_yticks(\n",
    "    np.linspace(ax2.get_ybound()[0], ax2.get_ybound()[1], 6))  # choose integer to neatly divide your axis, in our case 6\n",
    "ax1.set_yticks(\n",
    "    np.linspace(ax1.get_ybound()[0], ax1.get_ybound()[1], 6))  # apply same spacing to other axis\n",
    "\n",
    "\n",
    "# code to have a unified legend\n",
    "# from https://stackoverflow.com/questions/5484922/secondary-axis-with-twinx-how-to-add-to-legend\n",
    "lines = signal+rul_line+rul_line2\n",
    "labels = [line.get_label() for line in lines]\n",
    "ax1.legend(lines, labels, loc=0)\n",
    "\n",
    "plt.show()"
   ]
  },
  {
   "cell_type": "markdown",
   "metadata": {},
   "source": [
    "Let's try this out with our baseline model"
   ]
  },
  {
   "cell_type": "code",
   "execution_count": 6,
   "metadata": {},
   "outputs": [],
   "source": [
    "# prep data\n",
    "# drop unwanted columns and split target variable from training set\n",
    "drop_sensors = ['s_1','s_5','s_6','s_10','s_16','s_18','s_19']\n",
    "drop_labels = index_names+setting_names+drop_sensors\n",
    "\n",
    "X_train = train.drop(drop_labels, axis=1)\n",
    "y_train = X_train.pop('RUL')\n",
    "\n",
    "# Since the true RUL values for the test set are only provided for the last time cycle of each enginge, \n",
    "# the test set is subsetted to represent the same\n",
    "X_test = test.groupby('unit_nr').last().reset_index().drop(drop_labels, axis=1)"
   ]
  },
  {
   "cell_type": "code",
   "execution_count": 7,
   "metadata": {},
   "outputs": [],
   "source": [
    "def evaluate(y_true, y_hat, label='test'):\n",
    "    mse = mean_squared_error(y_true, y_hat)\n",
    "    rmse = np.sqrt(mse)\n",
    "    variance = r2_score(y_true, y_hat)\n",
    "    print('{} set RMSE:{}, R2:{}'.format(label, rmse, variance))"
   ]
  },
  {
   "cell_type": "code",
   "execution_count": 8,
   "metadata": {},
   "outputs": [
    {
     "name": "stdout",
     "output_type": "stream",
     "text": [
      "train set RMSE:44.66819159545453, R2:0.5794486527796716\n",
      "test set RMSE:31.952633027741815, R2:0.40877368076574083\n"
     ]
    }
   ],
   "source": [
    "## Linear declining RUL\n",
    "# create and fit model\n",
    "lm = LinearRegression()\n",
    "lm.fit(X_train, y_train)\n",
    "\n",
    "# predict and evaluate\n",
    "y_hat_train = lm.predict(X_train)\n",
    "evaluate(y_train, y_hat_train, 'train')\n",
    "\n",
    "y_hat_test = lm.predict(X_test)\n",
    "evaluate(y_test, y_hat_test)"
   ]
  },
  {
   "cell_type": "code",
   "execution_count": 9,
   "metadata": {},
   "outputs": [],
   "source": [
    "y_train_clipped = y_train.clip(upper=125)"
   ]
  },
  {
   "cell_type": "code",
   "execution_count": 10,
   "metadata": {},
   "outputs": [
    {
     "data": {
      "text/plain": [
       "True"
      ]
     },
     "execution_count": 10,
     "metadata": {},
     "output_type": "execute_result"
    }
   ],
   "source": [
    "# I previously used the where method, but .clip seems more intuitive\n",
    "all(y_train.where(y_train <= 125, 125) == y_train_clipped)"
   ]
  },
  {
   "cell_type": "code",
   "execution_count": 11,
   "metadata": {},
   "outputs": [
    {
     "name": "stdout",
     "output_type": "stream",
     "text": [
      "train set RMSE:21.491018701515415, R2:0.7340432868050447\n",
      "test set RMSE:21.900213406890515, R2:0.7222608196546241\n"
     ]
    }
   ],
   "source": [
    "## Clipped RUL\n",
    "# create and fit model\n",
    "lm = LinearRegression()\n",
    "lm.fit(X_train, y_train_clipped)  \n",
    "\n",
    "# predict and evaluate\n",
    "y_hat_train = lm.predict(X_train)\n",
    "evaluate(y_train_clipped, y_hat_train, 'train')\n",
    "\n",
    "y_hat_test = lm.predict(X_test)\n",
    "evaluate(y_test, y_hat_test)"
   ]
  },
  {
   "cell_type": "markdown",
   "metadata": {},
   "source": [
    "As we've updated our assumption of RUL, I feel this should also be reflected in the train evaluation. The True RUL of the test set remains untouched.  \n",
    "The train RMSE has more than halved. Of course we've set those targets ourselves, but it still shows how much impact the high 'assumed' RUL values had on overall model performance. Much more imporant tough, is the improvement on the test set (almost one third!). Which informs us the updated assumption is beneficial for modeling true RUL"
   ]
  },
  {
   "cell_type": "markdown",
   "metadata": {},
   "source": [
    "# SVR"
   ]
  },
  {
   "cell_type": "code",
   "execution_count": 12,
   "metadata": {},
   "outputs": [
    {
     "name": "stdout",
     "output_type": "stream",
     "text": [
      "train set RMSE:29.57783070266026, R2:0.49623314435506494\n",
      "test set RMSE:29.675150117440094, R2:0.49005151605390174\n"
     ]
    }
   ],
   "source": [
    "# SVM initial regression + clipped RUL\n",
    "svr = SVR(kernel='linear')\n",
    "svr.fit(X_train, y_train_clipped)  \n",
    "\n",
    "# predict and evaluate\n",
    "y_hat_train = svr.predict(X_train)\n",
    "evaluate(y_train_clipped, y_hat_train, 'train')\n",
    "\n",
    "y_hat_test = svr.predict(X_test)\n",
    "evaluate(y_test, y_hat_test)"
   ]
  },
  {
   "cell_type": "markdown",
   "metadata": {},
   "source": [
    "Results are quite a bit worse, let's try scaling our features to improve model performance"
   ]
  },
  {
   "cell_type": "markdown",
   "metadata": {},
   "source": [
    "## Scaling"
   ]
  },
  {
   "cell_type": "code",
   "execution_count": 13,
   "metadata": {},
   "outputs": [],
   "source": [
    "# Scaling\n",
    "from sklearn.preprocessing import MinMaxScaler, StandardScaler\n",
    "scaler = MinMaxScaler()\n",
    "# scaler = StandardScaler()  # for this specific dataset, the type of scaler does not have any effect\n",
    "scaler.fit(X_train)\n",
    "X_train_scaled = scaler.transform(X_train)\n",
    "X_test_scaled = scaler.transform(X_test)"
   ]
  },
  {
   "cell_type": "code",
   "execution_count": 14,
   "metadata": {},
   "outputs": [
    {
     "name": "stdout",
     "output_type": "stream",
     "text": [
      "train set RMSE:21.578263975067888, R2:0.7318795396979632\n",
      "test set RMSE:21.580480163289597, R2:0.730311354095216\n"
     ]
    }
   ],
   "source": [
    "# SVM regression + clipped RUL + scaled\n",
    "svr = SVR(kernel='linear')\n",
    "svr.fit(X_train_scaled, y_train_clipped)  \n",
    "\n",
    "# predict and evaluate\n",
    "y_hat_train = svr.predict(X_train_scaled)\n",
    "evaluate(y_train_clipped, y_hat_train, 'train')\n",
    "\n",
    "y_hat_test = svr.predict(X_test_scaled)\n",
    "evaluate(y_test, y_hat_test)"
   ]
  },
  {
   "cell_type": "markdown",
   "metadata": {},
   "source": [
    "Great, the current RMSE is already an improvement over the baseline regression with clipped RUL. Let's see if we can improve it even further with some feature engineering."
   ]
  },
  {
   "cell_type": "markdown",
   "metadata": {},
   "source": [
    "## Feature engineering"
   ]
  },
  {
   "cell_type": "code",
   "execution_count": 15,
   "metadata": {},
   "outputs": [
    {
     "name": "stdout",
     "output_type": "stream",
     "text": [
      "(20631, 14)\n",
      "(20631, 120)\n"
     ]
    }
   ],
   "source": [
    "# Feature engineering\n",
    "from sklearn.preprocessing import PolynomialFeatures\n",
    "# 2nd degree polynomialFeatures of [a, b] becomes [1, a, b, a^2, ab, b^2]\n",
    "poly = PolynomialFeatures(2)\n",
    "X_train_transformed = poly.fit_transform(X_train_scaled)\n",
    "X_test_transformed = poly.fit_transform(X_test_scaled)\n",
    "\n",
    "print(X_train_scaled.shape)\n",
    "print(X_train_transformed.shape)"
   ]
  },
  {
   "cell_type": "code",
   "execution_count": 16,
   "metadata": {},
   "outputs": [
    {
     "name": "stdout",
     "output_type": "stream",
     "text": [
      "train set RMSE:19.716789731130874, R2:0.7761436785704136\n",
      "test set RMSE:20.585402508370592, R2:0.75460868821153\n"
     ]
    }
   ],
   "source": [
    "# SVM regression + clipped RUL + engineered features\n",
    "svr_f = SVR(kernel='linear')\n",
    "svr_f.fit(X_train_transformed, y_train_clipped)  \n",
    "\n",
    "# predict and evaluate\n",
    "y_hat_train = svr_f.predict(X_train_transformed)\n",
    "evaluate(y_train_clipped, y_hat_train, 'train')\n",
    "\n",
    "y_hat_test = svr_f.predict(X_test_transformed)\n",
    "evaluate(y_test, y_hat_test)"
   ]
  },
  {
   "cell_type": "markdown",
   "metadata": {},
   "source": [
    "## Feature selection"
   ]
  },
  {
   "cell_type": "code",
   "execution_count": 17,
   "metadata": {},
   "outputs": [
    {
     "name": "stdout",
     "output_type": "stream",
     "text": [
      "Original features:\n",
      " Index(['s_2', 's_3', 's_4', 's_7', 's_8', 's_9', 's_11', 's_12', 's_13',\n",
      "       's_14', 's_15', 's_17', 's_20', 's_21'],\n",
      "      dtype='object')\n",
      "Best features:\n",
      " ['x0' 'x1' 'x2' 'x3' 'x5' 'x6' 'x7' 'x9' 'x10' 'x11' 'x12' 'x13' 'x2 x5'\n",
      " 'x2 x8' 'x2 x9' 'x3 x5' 'x3 x8' 'x3 x9' 'x4^2' 'x4 x6' 'x4 x7' 'x4 x8'\n",
      " 'x5^2' 'x5 x6' 'x5 x7' 'x5 x9' 'x5 x12' 'x5 x13' 'x6^2' 'x6 x8' 'x6 x9'\n",
      " 'x7 x8' 'x7 x9' 'x8^2' 'x9^2' 'x9 x12' 'x9 x13']\n"
     ]
    },
    {
     "data": {
      "text/plain": [
       "(37,)"
      ]
     },
     "execution_count": 17,
     "metadata": {},
     "output_type": "execute_result"
    }
   ],
   "source": [
    "# Feature engineering + selection\n",
    "from sklearn.feature_selection import SelectFromModel\n",
    "select_features = SelectFromModel(svr_f, threshold='mean', prefit=True)\n",
    "select_features.get_support()\n",
    "feature_names = poly.get_feature_names()\n",
    "\n",
    "print('Original features:\\n', X_train.columns)\n",
    "print('Best features:\\n', np.array(feature_names)[select_features.get_support()])\n",
    "np.array(feature_names)[select_features.get_support()].shape"
   ]
  },
  {
   "cell_type": "code",
   "execution_count": 18,
   "metadata": {},
   "outputs": [
    {
     "name": "stdout",
     "output_type": "stream",
     "text": [
      "test set RMSE:19.746789101481127, R2:0.775461959316527\n",
      "test set RMSE:20.55613819605483, R2:0.7553058913450649\n"
     ]
    }
   ],
   "source": [
    "# SVM regression + clipped RUL + engineered features + selection\n",
    "svr = SVR(kernel='linear')\n",
    "svr.fit(X_train_transformed[:, select_features.get_support()], y_train_clipped) \n",
    "\n",
    "# predict and evaluate\n",
    "y_hat_train = svr.predict(X_train_transformed[:, select_features.get_support()])\n",
    "evaluate(y_train_clipped, y_hat_train, 'train')\n",
    "\n",
    "y_hat_test = svr.predict(X_test_transformed[:, select_features.get_support()])\n",
    "evaluate(y_test, y_hat_test)"
   ]
  },
  {
   "cell_type": "markdown",
   "metadata": {},
   "source": [
    "Our feature space went from 14 to 120, after feature selection we're back down to 37 features. These features improved out model yet again."
   ]
  },
  {
   "cell_type": "markdown",
   "metadata": {},
   "source": [
    "## Simple hyper parameter tuning"
   ]
  },
  {
   "cell_type": "code",
   "execution_count": 19,
   "metadata": {},
   "outputs": [
    {
     "name": "stdout",
     "output_type": "stream",
     "text": [
      "epsilon: 0.4 RMSE: 19.74772556660336 R2: 0.7754406619776462\n",
      "epsilon: 0.3 RMSE: 19.747580761069848 R2: 0.7754439552496148\n",
      "epsilon: 0.2 RMSE: 19.74660007817171 R2: 0.7754662580123992\n",
      "epsilon: 0.1 RMSE: 19.746789101481127 R2: 0.775461959316527\n",
      "epsilon: 0.05 RMSE: 19.746532456984006 R2: 0.7754677958176168\n"
     ]
    }
   ],
   "source": [
    "epsilon = [0.4, 0.3, 0.2, 0.1, 0.05]\n",
    "\n",
    "for e in epsilon:\n",
    "    svr = SVR(kernel='linear', epsilon=e)\n",
    "    svr.fit(X_train_transformed[:, select_features.get_support()], y_train_clipped)\n",
    "\n",
    "    # predict and evaluate\n",
    "    y_hat = svr.predict(X_train_transformed[:, select_features.get_support()])\n",
    "    mse = mean_squared_error(y_train_clipped, y_hat)\n",
    "    rmse = np.sqrt(mse)\n",
    "    variance = r2_score(y_train_clipped, y_hat)\n",
    "    print(\"epsilon:\", e, \"RMSE:\", rmse, \"R2:\", variance)"
   ]
  },
  {
   "cell_type": "markdown",
   "metadata": {},
   "source": [
    "An epsilon of 0.2 seems best for our current model, let's train it again and evaluate on the test set for our final RMSE"
   ]
  },
  {
   "cell_type": "markdown",
   "metadata": {},
   "source": [
    "## Final model"
   ]
  },
  {
   "cell_type": "code",
   "execution_count": 20,
   "metadata": {},
   "outputs": [
    {
     "name": "stdout",
     "output_type": "stream",
     "text": [
      "test set RMSE:19.74660007817171, R2:0.7754662580123992\n",
      "test set RMSE:20.54412482077374, R2:0.7555918150093489\n"
     ]
    }
   ],
   "source": [
    "svr = SVR(kernel='linear', epsilon=0.2)\n",
    "svr.fit(X_train_transformed[:, select_features.get_support()], y_train_clipped)\n",
    "\n",
    "# predict and evaluate\n",
    "y_hat_train = svr.predict(X_train_transformed[:, select_features.get_support()])\n",
    "evaluate(y_train_clipped, y_hat_train, 'train')\n",
    "\n",
    "y_hat_test = svr.predict(X_test_transformed[:, select_features.get_support()])\n",
    "evaluate(y_test, y_hat_test)"
   ]
  },
  {
   "cell_type": "markdown",
   "metadata": {},
   "source": [
    "The final SVR has a test RMSE of 20.54. The combination of updating our assumption of RUL and fitting an SVR with tuned boundaries, feature scaling and polynomial features provides a 35.7 % improvement over our baseline model (RMSE = 31.95).  \n",
    "\n",
    "Most of this improvement is attributed to changing our assumption of RUL, which shows the importance of framing your data science problem correctly.\n",
    "\n",
    "In the next analysis we'll delve into timeseries, see you there!"
   ]
  },
  {
   "cell_type": "code",
   "execution_count": 21,
   "metadata": {},
   "outputs": [],
   "source": [
    "## sources used\n",
    "\n",
    "# F. O. Heimes, \"Recurrent neural networks for remaining useful life estimation,\" 2008 International Conference on Prognostics and Health Management, Denver, CO, 2008, pp. 1-6, doi: 10.1109/PHM.2008.4711422.\n",
    "\n",
    "# https://towardsdatascience.com/support-vector-machine-simply-explained-fee28eba5496\n",
    "# https://www.researchgate.net/publication/320916953_Predicting_Top-of-Atmosphere_Thermal_Radiance_Using_MERRA-2_Atmospheric_Data_with_Deep_Learning\n",
    "# https://www.researchgate.net/post/When_should_the_support_vector_regression_rather_than_conventional_least_squared_errors_minimization_be_applied\n",
    "# https://cs.adelaide.edu.au/~chhshen/teaching/ML_SVR.pdf\n",
    "# https://stats.stackexchange.com/a/287855\n",
    "# https://towardsdatascience.com/an-introduction-to-support-vector-regression-svr-a3ebc1672c2"
   ]
  }
 ],
 "metadata": {
  "kernelspec": {
   "display_name": "Python 3 (ipykernel)",
   "language": "python",
   "name": "python3"
  },
  "language_info": {
   "codemirror_mode": {
    "name": "ipython",
    "version": 3
   },
   "file_extension": ".py",
   "mimetype": "text/x-python",
   "name": "python",
   "nbconvert_exporter": "python",
   "pygments_lexer": "ipython3",
   "version": "3.9.12"
  }
 },
 "nbformat": 4,
 "nbformat_minor": 2
}
